{
 "cells": [
  {
   "cell_type": "code",
   "execution_count": 1,
   "metadata": {},
   "outputs": [
    {
     "name": "stdout",
     "output_type": "stream",
     "text": [
      "Collecting git+git://github.com/mobolic/facebook-sdk\n",
      "  Cloning git://github.com/mobolic/facebook-sdk to /private/var/folders/b_/dytjqwb93mjg9r225wpx33p40000gn/T/pip-req-build-qg5dof0p\n",
      "  Running command git clone -q git://github.com/mobolic/facebook-sdk /private/var/folders/b_/dytjqwb93mjg9r225wpx33p40000gn/T/pip-req-build-qg5dof0p\n",
      "Requirement already satisfied: requests in /opt/anaconda3/lib/python3.7/site-packages (from facebook-sdk==4.0.0rc0) (2.22.0)\n",
      "Requirement already satisfied: certifi>=2017.4.17 in /opt/anaconda3/lib/python3.7/site-packages (from requests->facebook-sdk==4.0.0rc0) (2019.9.11)\n",
      "Requirement already satisfied: chardet<3.1.0,>=3.0.2 in /opt/anaconda3/lib/python3.7/site-packages (from requests->facebook-sdk==4.0.0rc0) (3.0.4)\n",
      "Requirement already satisfied: urllib3!=1.25.0,!=1.25.1,<1.26,>=1.21.1 in /opt/anaconda3/lib/python3.7/site-packages (from requests->facebook-sdk==4.0.0rc0) (1.24.2)\n",
      "Requirement already satisfied: idna<2.9,>=2.5 in /opt/anaconda3/lib/python3.7/site-packages (from requests->facebook-sdk==4.0.0rc0) (2.8)\n",
      "Building wheels for collected packages: facebook-sdk\n",
      "  Building wheel for facebook-sdk (setup.py) ... \u001b[?25ldone\n",
      "\u001b[?25h  Created wheel for facebook-sdk: filename=facebook_sdk-4.0.0rc0-cp37-none-any.whl size=11860 sha256=1ed0b52235e6d9a7461924ab2121ee5ed1d65d55ef284dcd083fc25e42748b08\n",
      "  Stored in directory: /private/var/folders/b_/dytjqwb93mjg9r225wpx33p40000gn/T/pip-ephem-wheel-cache-xhwbie7g/wheels/90/1d/f3/0e74ec9c4ebdc7920639902a252eb5ff72afd8dbf3c27fbb91\n",
      "Successfully built facebook-sdk\n",
      "Installing collected packages: facebook-sdk\n",
      "Successfully installed facebook-sdk-4.0.0rc0\n"
     ]
    }
   ],
   "source": [
    "!pip install git+git://github.com/mobolic/facebook-sdk"
   ]
  },
  {
   "cell_type": "code",
   "execution_count": 2,
   "metadata": {},
   "outputs": [],
   "source": [
    "# Token de application\n",
    "APP_TOKEN = \"|\" "
   ]
  },
  {
   "cell_type": "code",
   "execution_count": 3,
   "metadata": {},
   "outputs": [],
   "source": [
    "import facebook"
   ]
  },
  {
   "cell_type": "code",
   "execution_count": 4,
   "metadata": {},
   "outputs": [],
   "source": [
    "graph = facebook.GraphAPI(access_token = APP_TOKEN)"
   ]
  },
  {
   "cell_type": "code",
   "execution_count": 7,
   "metadata": {},
   "outputs": [],
   "source": [
    "data = graph.search(q='ikea',type='place')"
   ]
  },
  {
   "cell_type": "code",
   "execution_count": 8,
   "metadata": {},
   "outputs": [
    {
     "data": {
      "text/plain": [
       "{'data': [{'name': 'IKEA @ Mega Bangna', 'id': '158552804243711'},\n",
       "  {'name': 'Ikea Cheras', 'id': '100769198214912'},\n",
       "  {'name': 'IKEA', 'id': '100139434701485'},\n",
       "  {'name': 'IKEA 宜家家居 新店店', 'id': '290041358287848'},\n",
       "  {'name': 'IKEA Macau', 'id': '105746171119310'},\n",
       "  {'name': '澳門宜家傢俬 Ikea Macau', 'id': '108524697503897'},\n",
       "  {'name': 'IKEA Distribution Center, Perryville MD', 'id': '202055743151263'},\n",
       "  {'name': 'IKEA', 'id': '111027416935798'},\n",
       "  {'name': 'イケア・ジャパン (IKEA Japan)', 'id': '327433328126412'},\n",
       "  {'name': 'IKEA 青埔新市鎮店', 'id': '606938476437386'},\n",
       "  {'name': 'IKEA Riga', 'id': '550193352070378'},\n",
       "  {'name': 'IKEA Praha - Černý most', 'id': '973896699437662'},\n",
       "  {'name': 'IKEA Soroksár', 'id': '282750338882974'},\n",
       "  {'name': 'Ikea Lager Dortmund', 'id': '177111222352699'},\n",
       "  {'name': 'Ikea Srbija', 'id': '1517462974954120'},\n",
       "  {'name': 'IKEA Phuket | อิเกีย ภูเก็ต', 'id': '1536550553302862'},\n",
       "  {'name': 'IKEA', 'id': '103774851126324'},\n",
       "  {'name': 'IKEA 고양', 'id': '370106630090396'},\n",
       "  {'name': 'IKEA Ostrava', 'id': '361713677691307'},\n",
       "  {'name': 'IKEA', 'id': '1717670288535586'},\n",
       "  {'name': 'IKEA', 'id': '121050891908395'},\n",
       "  {'name': 'IKEA', 'id': '1051089855033048'},\n",
       "  {'name': 'IKEA', 'id': '1329752227122160'},\n",
       "  {'name': 'IKEA', 'id': '649028375293929'},\n",
       "  {'name': 'IKEA', 'id': '2185653184992150'}],\n",
       " 'paging': {'cursors': {'after': 'MjQZD'},\n",
       "  'next': 'https://graph.facebook.com/v7.0/search?access_token=581099069071842%7Cc22281976225a58bbb623a39ebe8a397&q=ikea&type=place&limit=25&after=MjQZD'}}"
      ]
     },
     "execution_count": 8,
     "metadata": {},
     "output_type": "execute_result"
    }
   ],
   "source": [
    "data # Entrega 20 resultados, al final da la dirección de paginacion"
   ]
  },
  {
   "cell_type": "code",
   "execution_count": 10,
   "metadata": {},
   "outputs": [],
   "source": [
    "data = graph.search(q='Ikea',type='place', fields = 'name, location')"
   ]
  },
  {
   "cell_type": "code",
   "execution_count": 11,
   "metadata": {},
   "outputs": [
    {
     "data": {
      "text/plain": [
       "{'data': [{'name': 'IKEA @ Mega Bangna',\n",
       "   'location': {'city': 'Bangkok',\n",
       "    'country': 'Thailand',\n",
       "    'latitude': 13.645154139213,\n",
       "    'longitude': 100.67985805146,\n",
       "    'street': 'IKEA Bangna'},\n",
       "   'id': '158552804243711'},\n",
       "  {'name': 'Ikea Cheras',\n",
       "   'location': {'city': 'Kuala Lumpur',\n",
       "    'country': 'Malaysia',\n",
       "    'latitude': 3.1353502,\n",
       "    'longitude': 101.7209033},\n",
       "   'id': '100769198214912'},\n",
       "  {'name': 'IKEA',\n",
       "   'location': {'city': 'Kuala Lumpur',\n",
       "    'country': 'Malaysia',\n",
       "    'latitude': 3.157252084212,\n",
       "    'longitude': 101.61300582631,\n",
       "    'street': '2, Jalan PJU 7/2, Mutiara Damansara, 47800 Petaling Jaya, Selangor',\n",
       "    'zip': '47800'},\n",
       "   'id': '100139434701485'},\n",
       "  {'name': 'IKEA 宜家家居 新店店',\n",
       "   'location': {'city': 'Xinbei',\n",
       "    'country': 'Taiwan',\n",
       "    'latitude': 24.97275,\n",
       "    'located_in': '394386897284718',\n",
       "    'longitude': 121.52981,\n",
       "    'street': '新北市23150新店區中央路159號4樓',\n",
       "    'zip': '23150'},\n",
       "   'id': '290041358287848'},\n",
       "  {'name': 'IKEA Macau',\n",
       "   'location': {'city': 'Macau',\n",
       "    'country': 'Macau',\n",
       "    'latitude': 22.160667497955,\n",
       "    'longitude': 113.55410369699},\n",
       "   'id': '105746171119310'},\n",
       "  {'name': '澳門宜家傢俬 Ikea Macau',\n",
       "   'location': {'city': 'Macau',\n",
       "    'country': 'Macau',\n",
       "    'latitude': 22.160205175683,\n",
       "    'longitude': 113.55305561037,\n",
       "    'street': '廣東大馬路'},\n",
       "   'id': '108524697503897'},\n",
       "  {'name': 'IKEA Distribution Center, Perryville MD',\n",
       "   'location': {'city': 'Perryville',\n",
       "    'country': 'United States',\n",
       "    'latitude': 39.559445701709,\n",
       "    'longitude': -76.056943995048,\n",
       "    'state': 'MD',\n",
       "    'street': '100 IKEA Way',\n",
       "    'zip': '21903'},\n",
       "   'id': '202055743151263'},\n",
       "  {'name': 'IKEA',\n",
       "   'location': {'city': 'Johor Bahru',\n",
       "    'country': 'Malaysia',\n",
       "    'latitude': 1.5520365288537,\n",
       "    'longitude': 103.79883424449,\n",
       "    'street': '33, Jalan Harmonium 23/13, Taman Desa Tebrau, 81100 Johor Bahru',\n",
       "    'zip': '81100'},\n",
       "   'id': '111027416935798'},\n",
       "  {'name': 'イケア・ジャパン (IKEA Japan)',\n",
       "   'location': {'city': 'Nagakute',\n",
       "    'country': 'Japan',\n",
       "    'latitude': 35.175167631811,\n",
       "    'longitude': 137.07560062408,\n",
       "    'state': 'Aichi',\n",
       "    'street': '公園西駅周辺土地区画整理事業地内 1街区',\n",
       "    'zip': '480-1100'},\n",
       "   'id': '327433328126412'},\n",
       "  {'name': 'IKEA 青埔新市鎮店',\n",
       "   'location': {'city': 'Taoyüan',\n",
       "    'country': 'Taiwan',\n",
       "    'latitude': 25.013661116667,\n",
       "    'longitude': 121.21705,\n",
       "    'street': '高鐵站前東路一段',\n",
       "    'zip': '33743'},\n",
       "   'id': '606938476437386'},\n",
       "  {'name': 'IKEA Riga',\n",
       "   'location': {'city': 'Dreilini',\n",
       "    'country': 'Latvia',\n",
       "    'latitude': 56.954836,\n",
       "    'longitude': 24.255108,\n",
       "    'street': 'Biķeru iela 2',\n",
       "    'zip': 'LV-2130'},\n",
       "   'id': '550193352070378'},\n",
       "  {'name': 'IKEA Praha - Černý most',\n",
       "   'location': {'city': 'Prague',\n",
       "    'country': 'Czech Republic',\n",
       "    'latitude': 50.10449,\n",
       "    'longitude': 14.58762,\n",
       "    'street': 'Chlumecká 664/10',\n",
       "    'zip': '19800'},\n",
       "   'id': '973896699437662'},\n",
       "  {'name': 'IKEA Soroksár',\n",
       "   'location': {'city': 'Budapest',\n",
       "    'country': 'Hungary',\n",
       "    'latitude': 47.41868,\n",
       "    'longitude': 19.15697,\n",
       "    'street': 'Bevásárló utca 4.',\n",
       "    'zip': '1238'},\n",
       "   'id': '282750338882974'},\n",
       "  {'name': 'Ikea Lager Dortmund',\n",
       "   'location': {'city': 'Dortmund',\n",
       "    'country': 'Germany',\n",
       "    'latitude': 51.562122400084,\n",
       "    'longitude': 7.4310756484683,\n",
       "    'street': 'Ellinghauser Str. 213',\n",
       "    'zip': '44359'},\n",
       "   'id': '177111222352699'},\n",
       "  {'name': 'Ikea Srbija',\n",
       "   'location': {'city': 'Belgrade',\n",
       "    'country': 'Serbia',\n",
       "    'latitude': 44.71035294876,\n",
       "    'longitude': 20.562099662039,\n",
       "    'street': 'Auto-put E-75 bb'},\n",
       "   'id': '1517462974954120'},\n",
       "  {'name': 'IKEA Phuket | อิเกีย ภูเก็ต',\n",
       "   'location': {'city': 'Amphoe Muang Phuket',\n",
       "    'country': 'Thailand',\n",
       "    'latitude': 7.9369193255506,\n",
       "    'longitude': 98.378469814945,\n",
       "    'street': 'Bypass Biztown 180 Moo 5 Chalermprakiat Ratchakarn Thi 9 Road, Ratsada, Mueang Phuket District',\n",
       "    'zip': '83000'},\n",
       "   'id': '1536550553302862'},\n",
       "  {'name': 'IKEA',\n",
       "   'location': {'city': 'Dubai',\n",
       "    'country': 'United Arab Emirates',\n",
       "    'latitude': 25.02899492887,\n",
       "    'longitude': 55.106477737427,\n",
       "    'street': 'Festival Plaza Mall, Jebel Ali'},\n",
       "   'id': '103774851126324'},\n",
       "  {'name': 'IKEA 고양',\n",
       "   'location': {'city': 'Goyang',\n",
       "    'country': 'South Korea',\n",
       "    'latitude': 37.629462684196,\n",
       "    'longitude': 126.86260825334,\n",
       "    'street': '덕양구 권율대로 420',\n",
       "    'zip': '10551'},\n",
       "   'id': '370106630090396'},\n",
       "  {'name': 'IKEA Ostrava',\n",
       "   'location': {'city': 'Ostrava',\n",
       "    'country': 'Czech Republic',\n",
       "    'latitude': 49.79912,\n",
       "    'longitude': 18.22774,\n",
       "    'street': 'Rudná 110',\n",
       "    'zip': '70030'},\n",
       "   'id': '361713677691307'},\n",
       "  {'name': 'IKEA',\n",
       "   'location': {'city': 'Gdansk',\n",
       "    'country': 'Poland',\n",
       "    'latitude': 54.3735,\n",
       "    'located_in': '471565259531948',\n",
       "    'longitude': 18.5171,\n",
       "    'street': 'Złota Karczma 26',\n",
       "    'zip': '80-298'},\n",
       "   'id': '1717670288535586'},\n",
       "  {'name': 'IKEA',\n",
       "   'location': {'city': 'Budapest',\n",
       "    'country': 'Hungary',\n",
       "    'latitude': 47.50515,\n",
       "    'longitude': 19.13823,\n",
       "    'street': 'Örs vezér tere 22.',\n",
       "    'zip': '1148'},\n",
       "   'id': '121050891908395'},\n",
       "  {'name': 'IKEA',\n",
       "   'location': {'city': 'Budaörs',\n",
       "    'country': 'Hungary',\n",
       "    'latitude': 47.454240026776,\n",
       "    'longitude': 18.940155474408,\n",
       "    'street': 'Sport utca 2-4.',\n",
       "    'zip': '2040'},\n",
       "   'id': '1051089855033048'},\n",
       "  {'name': 'IKEA',\n",
       "   'location': {'city': 'Łódź',\n",
       "    'country': 'Poland',\n",
       "    'latitude': 51.702127,\n",
       "    'longitude': 19.41186,\n",
       "    'street': 'Pabianicka 255',\n",
       "    'zip': '90-001'},\n",
       "   'id': '1329752227122160'},\n",
       "  {'name': 'IKEA',\n",
       "   'location': {'city': 'Bydgoszcz',\n",
       "    'country': 'Poland',\n",
       "    'latitude': 53.13235,\n",
       "    'longitude': 18.12003,\n",
       "    'street': 'Skandynawska 1',\n",
       "    'zip': '85-776'},\n",
       "   'id': '649028375293929'},\n",
       "  {'name': 'IKEA',\n",
       "   'location': {'city': 'Anderlecht',\n",
       "    'country': 'Belgium',\n",
       "    'latitude': 50.811189416512,\n",
       "    'longitude': 4.2906160072101,\n",
       "    'street': 'Chaussée de Mons 1432',\n",
       "    'zip': '1070'},\n",
       "   'id': '2185653184992150'}],\n",
       " 'paging': {'cursors': {'after': 'MjQZD'},\n",
       "  'next': 'https://graph.facebook.com/v7.0/search?access_token=581099069071842%7Cc22281976225a58bbb623a39ebe8a397&fields=name%2C+location&q=Ikea&type=place&limit=25&after=MjQZD'}}"
      ]
     },
     "execution_count": 11,
     "metadata": {},
     "output_type": "execute_result"
    }
   ],
   "source": [
    "data"
   ]
  },
  {
   "cell_type": "code",
   "execution_count": 19,
   "metadata": {},
   "outputs": [],
   "source": [
    "# User Token -> El usuario nos ha permitido acceso a la información a través de nuestra app\n",
    "USER_TOKEN = \"\""
   ]
  },
  {
   "cell_type": "code",
   "execution_count": 20,
   "metadata": {},
   "outputs": [],
   "source": [
    "graph = facebook.GraphAPI(access_token = USER_TOKEN)"
   ]
  },
  {
   "cell_type": "code",
   "execution_count": 21,
   "metadata": {},
   "outputs": [],
   "source": [
    "me = graph.get_object(id='me',fields='name,birthday,friends')"
   ]
  },
  {
   "cell_type": "code",
   "execution_count": 22,
   "metadata": {},
   "outputs": [
    {
     "data": {
      "text/plain": [
       "{'name': 'Marcos Cochi Rodriguez',\n",
       " 'birthday': '05/15/1993',\n",
       " 'friends': {'data': [], 'summary': {'total_count': 252}},\n",
       " 'id': '3251596251551041'}"
      ]
     },
     "execution_count": 22,
     "metadata": {},
     "output_type": "execute_result"
    }
   ],
   "source": [
    "me #No veo el identificador de los amigos, porque el amigo también tendría que pedir permiso para verlo"
   ]
  },
  {
   "cell_type": "code",
   "execution_count": 33,
   "metadata": {},
   "outputs": [
    {
     "ename": "GraphAPIError",
     "evalue": "Unknown path components: /birthday",
     "output_type": "error",
     "traceback": [
      "\u001b[0;31m---------------------------------------------------------------------------\u001b[0m",
      "\u001b[0;31mGraphAPIError\u001b[0m                             Traceback (most recent call last)",
      "\u001b[0;32m<ipython-input-33-2a18981594c4>\u001b[0m in \u001b[0;36m<module>\u001b[0;34m\u001b[0m\n\u001b[1;32m      4\u001b[0m \u001b[0;34m\u001b[0m\u001b[0m\n\u001b[1;32m      5\u001b[0m \u001b[0mgraph\u001b[0m \u001b[0;34m=\u001b[0m \u001b[0mfacebook\u001b[0m\u001b[0;34m.\u001b[0m\u001b[0mGraphAPI\u001b[0m\u001b[0;34m(\u001b[0m\u001b[0maccess_token\u001b[0m \u001b[0;34m=\u001b[0m \u001b[0mPAGE_TOKEN\u001b[0m\u001b[0;34m)\u001b[0m\u001b[0;34m\u001b[0m\u001b[0;34m\u001b[0m\u001b[0m\n\u001b[0;32m----> 6\u001b[0;31m \u001b[0mcomments\u001b[0m \u001b[0;34m=\u001b[0m \u001b[0mgraph\u001b[0m\u001b[0;34m.\u001b[0m\u001b[0mget_connections\u001b[0m\u001b[0;34m(\u001b[0m\u001b[0mid\u001b[0m\u001b[0;34m=\u001b[0m\u001b[0;34m'110098844054111'\u001b[0m\u001b[0;34m,\u001b[0m \u001b[0mconnection_name\u001b[0m\u001b[0;34m=\u001b[0m\u001b[0;34m'birthday'\u001b[0m\u001b[0;34m)\u001b[0m\u001b[0;34m\u001b[0m\u001b[0;34m\u001b[0m\u001b[0m\n\u001b[0m",
      "\u001b[0;32m/opt/anaconda3/lib/python3.7/site-packages/facebook/__init__.py\u001b[0m in \u001b[0;36mget_connections\u001b[0;34m(self, id, connection_name, **args)\u001b[0m\n\u001b[1;32m    152\u001b[0m         \u001b[0;34m\"\"\"Fetches the connections for given object.\"\"\"\u001b[0m\u001b[0;34m\u001b[0m\u001b[0;34m\u001b[0m\u001b[0m\n\u001b[1;32m    153\u001b[0m         return self.request(\n\u001b[0;32m--> 154\u001b[0;31m             \u001b[0;34m\"{0}/{1}/{2}\"\u001b[0m\u001b[0;34m.\u001b[0m\u001b[0mformat\u001b[0m\u001b[0;34m(\u001b[0m\u001b[0mself\u001b[0m\u001b[0;34m.\u001b[0m\u001b[0mversion\u001b[0m\u001b[0;34m,\u001b[0m \u001b[0mid\u001b[0m\u001b[0;34m,\u001b[0m \u001b[0mconnection_name\u001b[0m\u001b[0;34m)\u001b[0m\u001b[0;34m,\u001b[0m \u001b[0margs\u001b[0m\u001b[0;34m\u001b[0m\u001b[0;34m\u001b[0m\u001b[0m\n\u001b[0m\u001b[1;32m    155\u001b[0m         )\n\u001b[1;32m    156\u001b[0m \u001b[0;34m\u001b[0m\u001b[0m\n",
      "\u001b[0;32m/opt/anaconda3/lib/python3.7/site-packages/facebook/__init__.py\u001b[0m in \u001b[0;36mrequest\u001b[0;34m(self, path, args, post_args, files, method)\u001b[0m\n\u001b[1;32m    320\u001b[0m \u001b[0;34m\u001b[0m\u001b[0m\n\u001b[1;32m    321\u001b[0m         \u001b[0;32mif\u001b[0m \u001b[0mresult\u001b[0m \u001b[0;32mand\u001b[0m \u001b[0misinstance\u001b[0m\u001b[0;34m(\u001b[0m\u001b[0mresult\u001b[0m\u001b[0;34m,\u001b[0m \u001b[0mdict\u001b[0m\u001b[0;34m)\u001b[0m \u001b[0;32mand\u001b[0m \u001b[0mresult\u001b[0m\u001b[0;34m.\u001b[0m\u001b[0mget\u001b[0m\u001b[0;34m(\u001b[0m\u001b[0;34m\"error\"\u001b[0m\u001b[0;34m)\u001b[0m\u001b[0;34m:\u001b[0m\u001b[0;34m\u001b[0m\u001b[0;34m\u001b[0m\u001b[0m\n\u001b[0;32m--> 322\u001b[0;31m             \u001b[0;32mraise\u001b[0m \u001b[0mGraphAPIError\u001b[0m\u001b[0;34m(\u001b[0m\u001b[0mresult\u001b[0m\u001b[0;34m)\u001b[0m\u001b[0;34m\u001b[0m\u001b[0;34m\u001b[0m\u001b[0m\n\u001b[0m\u001b[1;32m    323\u001b[0m         \u001b[0;32mreturn\u001b[0m \u001b[0mresult\u001b[0m\u001b[0;34m\u001b[0m\u001b[0;34m\u001b[0m\u001b[0m\n\u001b[1;32m    324\u001b[0m \u001b[0;34m\u001b[0m\u001b[0m\n",
      "\u001b[0;31mGraphAPIError\u001b[0m: Unknown path components: /birthday"
     ]
    }
   ],
   "source": [
    "# Token de página. Sólo se puede utilizar si administramos nosotros una página\n",
    "data = graph.get_object(id='110098844054111', fields='access_token')\n",
    "PAGE_TOKEN = data['access_token']\n",
    "\n",
    "graph = facebook.GraphAPI(access_token = PAGE_TOKEN)\n",
    "comments = graph.get_connections(id='110098844054111', connection_name='birthday')\n"
   ]
  },
  {
   "cell_type": "code",
   "execution_count": 25,
   "metadata": {},
   "outputs": [
    {
     "data": {
      "text/plain": [
       "'EAAIQgauXYeIBADcdob8R5Y7RVaLl1GTN8rvxAO4HfXIhZCf27Eklw00H7nsEZChGaz2GBSFbPz9O03yuUzVZCdofnQ5sLMcZBbXKA1uqlyRSCXOiZALjX2MUZAwCZBDMB7kvsWl6IqF6C1aBen1SnOXYX58UraxGaXLagcmLEIp49H82h6mIHXSqUaeDwhOGaacN72Ckez8JQZDZD'"
      ]
     },
     "execution_count": 25,
     "metadata": {},
     "output_type": "execute_result"
    }
   ],
   "source": []
  },
  {
   "cell_type": "code",
   "execution_count": null,
   "metadata": {},
   "outputs": [],
   "source": []
  }
 ],
 "metadata": {
  "kernelspec": {
   "display_name": "Python 3",
   "language": "python",
   "name": "python3"
  },
  "language_info": {
   "codemirror_mode": {
    "name": "ipython",
    "version": 3
   },
   "file_extension": ".py",
   "mimetype": "text/x-python",
   "name": "python",
   "nbconvert_exporter": "python",
   "pygments_lexer": "ipython3",
   "version": "3.7.4"
  }
 },
 "nbformat": 4,
 "nbformat_minor": 2
}
